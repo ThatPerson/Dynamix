{
 "cells": [
  {
   "cell_type": "code",
   "execution_count": 1,
   "metadata": {},
   "outputs": [
    {
     "data": {
      "application/vnd.jupyter.widget-view+json": {
       "model_id": "836364e16cf349f7a04d8172af192d2e",
       "version_major": 2,
       "version_minor": 0
      },
      "text/plain": []
     },
     "metadata": {},
     "output_type": "display_data"
    }
   ],
   "source": [
    "import nglview as nv\n",
    "import calc\n",
    "import numpy as np"
   ]
  },
  {
   "cell_type": "code",
   "execution_count": 2,
   "metadata": {},
   "outputs": [],
   "source": [
    "def apply_wigner(X, Y, Z, alpha, beta, gamma):\n",
    "    X, Y, Z = calc.vrot(X, Y, Z, alpha, Z)\n",
    "    X, Y, Z = calc.vrot(X, Y, Z, beta, Y)\n",
    "    X, Y, Z = calc.vrot(X, Y, Z, gamma, Z)\n",
    "    return X, Y, Z"
   ]
  },
  {
   "cell_type": "code",
   "execution_count": 5,
   "metadata": {},
   "outputs": [
    {
     "name": "stdout",
     "output_type": "stream",
     "text": [
      "Indirect: \n",
      "[ 0.26916995  0.94718005 -0.17434874]\n",
      "[-0.9527921   0.28829706  0.09524715]\n",
      "[0.14048043 0.14048043 0.98006658]\n",
      "Direct. :\n",
      "[ 0.26916995  0.94718005 -0.17434874]\n",
      "[-0.9527921   0.28829706  0.09524715]\n",
      "[0.14048043 0.14048043 0.98006658]\n"
     ]
    }
   ],
   "source": [
    "X = np.array([1, 0, 0])\n",
    "Y = np.array([0, 1, 0])\n",
    "Z = np.array([0, 0, 1])\n",
    "center = np.array([0, 0, 0])\n",
    "\n",
    "Xr, Yr, Zr = apply_wigner(X, Y, Z, np.pi/4., 0, 0)\n",
    "Xb, Yb, Zb = apply_wigner(Xr, Yr, Zr, 0, 0.2, 0)\n",
    "Xg, Yg, Zg = apply_wigner(Xb, Yb, Zb, 0, 0, 0.5)\n",
    "\n",
    "Xl, Yl, Zl = apply_wigner(X, Y, Z, np.pi/4., 0.2, 0.5)\n",
    "\n",
    "print(\"Indirect: \")\n",
    "print(Xg)\n",
    "print(Yg)\n",
    "print(Zg)\n",
    "print(\"Direct. :\")\n",
    "print(Xl)\n",
    "print(Yl)\n",
    "print(Zl)\n",
    "\n"
   ]
  },
  {
   "cell_type": "code",
   "execution_count": 13,
   "metadata": {},
   "outputs": [
    {
     "name": "stdout",
     "output_type": "stream",
     "text": [
      "[0.70710678 0.70710678 0.        ]\n",
      "[ 0.70710678 -0.70710678  0.        ]\n",
      "[ 0.  0. -1.]\n",
      "0.0\n",
      "0.0\n",
      "0.0\n"
     ]
    },
    {
     "data": {
      "application/vnd.jupyter.widget-view+json": {
       "model_id": "f851dfbbe39e4005ac63642396bf5d65",
       "version_major": 2,
       "version_minor": 0
      },
      "text/plain": [
       "NGLWidget()"
      ]
     },
     "metadata": {},
     "output_type": "display_data"
    }
   ],
   "source": [
    "X = np.array([1, 1, 0])\n",
    "X = X / np.linalg.norm(X)\n",
    "Y = np.array([1, -1, 0])\n",
    "Y = Y / np.linalg.norm(Y)\n",
    "Z = np.cross(X, Y)\n",
    "print(X)\n",
    "print(Y)\n",
    "print(Z)\n",
    "print(np.dot(X, Y))\n",
    "print(np.dot(X, Z))\n",
    "print(np.dot(Y, Z))\n",
    "\n",
    "center = np.array([0, 0, 0])\n",
    "\n",
    "Xl, Yl, Zl = apply_wigner(X, Y, Z, 0.3, 0, 0)\n",
    "\n",
    "p = nv.show_pdbid(\"6A5J\")\n",
    "p.clear_representations(0)\n",
    "\n",
    "Xt = 10 * X\n",
    "Yt = 10 * Y\n",
    "Zt = 10 * Z\n",
    "\n",
    "Xlt = 10 * Xl\n",
    "Ylt = 10 * Yl\n",
    "Zlt = 10 * Zl\n",
    "\n",
    "p.shape.add_arrow([0, 0, 0], Xt.tolist(), [1, 0, 0], 0.5)\n",
    "p.shape.add_arrow([0, 0, 0], Yt.tolist(), [0, 1, 0], 0.5)\n",
    "p.shape.add_arrow([0, 0, 0], Zt.tolist(), [0, 0, 1], 0.5)\n",
    "p.shape.add_arrow([0, 0, 0], Xlt.tolist(), [1, 0, 0], 1)\n",
    "p.shape.add_arrow([0, 0, 0], Ylt.tolist(), [0, 1, 0], 1)\n",
    "p.shape.add_arrow([0, 0, 0], Zlt.tolist(), [0, 0, 1], 1)\n",
    "p"
   ]
  },
  {
   "cell_type": "code",
   "execution_count": null,
   "metadata": {},
   "outputs": [],
   "source": []
  }
 ],
 "metadata": {
  "kernelspec": {
   "display_name": "Python 3",
   "language": "python",
   "name": "python3"
  },
  "language_info": {
   "codemirror_mode": {
    "name": "ipython",
    "version": 3
   },
   "file_extension": ".py",
   "mimetype": "text/x-python",
   "name": "python",
   "nbconvert_exporter": "python",
   "pygments_lexer": "ipython3",
   "version": "3.8.6"
  }
 },
 "nbformat": 4,
 "nbformat_minor": 4
}
